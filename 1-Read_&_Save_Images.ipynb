{
 "cells": [
  {
   "cell_type": "code",
   "execution_count": 2,
   "metadata": {},
   "outputs": [],
   "source": [
    "# importing the opencv module\n",
    "import cv2;"
   ]
  },
  {
   "cell_type": "code",
   "execution_count": 3,
   "metadata": {},
   "outputs": [],
   "source": [
    "# using imread('path') and 0 denotes read as  grayscale image  \n",
    "img = cv2.imread(r'images\\Cat.jpg',1)  \n",
    "  \n",
    "#This is using for display the image  \n",
    "cv2.imshow('image',img)  \n",
    "  \n",
    "cv2.waitKey(0) # This is necessary to be required so that the image doesn't close immediately.  \n",
    "#It will run continuously until the key press.  \n",
    "cv2.destroyAllWindows() "
   ]
  },
  {
   "cell_type": "code",
   "execution_count": 4,
   "metadata": {},
   "outputs": [
    {
     "name": "stdout",
     "output_type": "stream",
     "text": [
      "Image written to file-system :  True\n"
     ]
    }
   ],
   "source": [
    "# read image as gray scale    \n",
    "im_gray = cv2.imread('images\\Cat.jpg',cv2.IMREAD_GRAYSCALE)\n",
    "Name_Of_File = \"images\\Cat_Gray.jpg\"\n",
    "# save image  \n",
    "status = cv2.imwrite(Name_Of_File,im_gray)  \n",
    "print(\"Image written to file-system : \", status)  \n"
   ]
  }
 ],
 "metadata": {
  "interpreter": {
   "hash": "04635d289a519a1410467dd0afb0db42f9184808881ca68b2eb5a687a20a5a94"
  },
  "kernelspec": {
   "display_name": "Python 3.10.1 64-bit",
   "language": "python",
   "name": "python3"
  },
  "language_info": {
   "codemirror_mode": {
    "name": "ipython",
    "version": 3
   },
   "file_extension": ".py",
   "mimetype": "text/x-python",
   "name": "python",
   "nbconvert_exporter": "python",
   "pygments_lexer": "ipython3",
   "version": "3.10.1"
  },
  "orig_nbformat": 4
 },
 "nbformat": 4,
 "nbformat_minor": 2
}
